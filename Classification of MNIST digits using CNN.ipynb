{
 "cells": [
  {
   "cell_type": "markdown",
   "metadata": {
    "id": "bhWV8oes-wKR"
   },
   "source": [
    "## Classification of MNIST digits using CNN"
   ]
  },
  {
   "cell_type": "code",
   "execution_count": 2,
   "metadata": {
    "id": "YeuAheYyhdZw",
    "scrolled": false
   },
   "outputs": [],
   "source": [
    "# import libraries\n",
    "import numpy as np\n",
    "\n",
    "import torch\n",
    "import torch.nn as nn\n",
    "import torch.nn.functional as F\n",
    "from torch.utils.data import DataLoader,TensorDataset\n",
    "from sklearn.model_selection import train_test_split\n",
    "\n",
    "# for importing dataset\n",
    "import torchvision\n",
    "\n",
    "# for getting model summary\n",
    "from torchinfo import summary\n",
    "\n",
    "# for display options\n",
    "\n",
    "import matplotlib.pyplot as plt\n",
    "\n",
    "from IPython import display\n",
    "display.set_matplotlib_formats('svg')\n",
    "\n",
    "import warnings\n",
    "warnings.simplefilter('ignore')"
   ]
  },
  {
   "cell_type": "markdown",
   "metadata": {
    "id": "0HOkOefftqyg"
   },
   "source": [
    "# Import and process the data"
   ]
  },
  {
   "cell_type": "code",
   "execution_count": 3,
   "metadata": {},
   "outputs": [],
   "source": [
    "# To download MNIST dataset to current directory:\n",
    "MNIST = torchvision.datasets.MNIST(\".\", download=True)"
   ]
  },
  {
   "cell_type": "code",
   "execution_count": 4,
   "metadata": {},
   "outputs": [],
   "source": [
    "train_data = MNIST.train_data\n",
    "train_labels = MNIST.train_labels\n",
    "test_data = MNIST.test_data\n",
    "test_labels = MNIST.test_labels"
   ]
  },
  {
   "cell_type": "code",
   "execution_count": null,
   "metadata": {},
   "outputs": [],
   "source": [
    "print(f'{train_data.shape}\\n{train_labels.shape}\\n{test_data.shape}\\n{test_labels.shape}')"
   ]
  },
  {
   "cell_type": "code",
   "execution_count": 5,
   "metadata": {
    "id": "4rsf92yfrGoC"
   },
   "outputs": [],
   "source": [
    "# reshaping data to 2D\n",
    "train_data = train_data.reshape(test_data.shape[0],1,28,28)\n",
    "test_data = test_data.reshape(test_data.shape[0],1,28,28)"
   ]
  },
  {
   "cell_type": "markdown",
   "metadata": {
    "id": "OhLQ2YSvpiGj"
   },
   "source": [
    "# DataLoader object"
   ]
  },
  {
   "cell_type": "code",
   "execution_count": 6,
   "metadata": {
    "id": "Y_tZ1ymVp0Sf"
   },
   "outputs": [],
   "source": [
    "# Converting to tensor\n",
    "\n",
    "train_data = torch.tensor( train_data ).float()\n",
    "train_labels = torch.tensor( train_labels ).long()\n",
    "test_data = torch.tensor( test_data ).float()\n",
    "test_labels = torch.tensor( train_labels ).long()\n",
    "\n",
    "# Converting to PyTorch Datasets\n",
    "\n",
    "train_data = TensorDataset(train_data,train_labels)\n",
    "test_data  = TensorDataset(test_data,test_labels)\n",
    "\n",
    "# Creating dataloader objects\n",
    "\n",
    "batchsize    = 32\n",
    "train_loader = DataLoader(train_data,batch_size=batchsize,shuffle=True,drop_last=True)\n",
    "test_loader  = DataLoader(test_data,batch_size=test_data.tensors[0].shape[0])"
   ]
  },
  {
   "cell_type": "code",
   "execution_count": null,
   "metadata": {
    "id": "Zhsr13r2rk8I"
   },
   "outputs": [],
   "source": [
    "# check size to conform to format: images X channels X width X height\n",
    "train_loader.dataset.tensors[0].shape"
   ]
  },
  {
   "cell_type": "markdown",
   "metadata": {
    "id": "OK8Opkhgp0bO"
   },
   "source": [
    "# Deep learning model"
   ]
  },
  {
   "cell_type": "code",
   "execution_count": 7,
   "metadata": {
    "id": "JK3OO3tAtZkA"
   },
   "outputs": [],
   "source": [
    "# creating a class for the model\n",
    "def createTheMNISTNet(printtoggle=False):\n",
    "\n",
    "  class mnistNet(nn.Module):\n",
    "    def __init__(self,printtoggle):\n",
    "      super().__init__()\n",
    "\n",
    "      ### convolution layers\n",
    "      self.conv1 = nn.Conv2d( 1,10,kernel_size=5,stride=1,padding=1)\n",
    "#       Nh = floor((Mh + 2p - k)/Sh) + 1, where:\n",
    "#        Nh = no of pixels in current layer, Mh = no of pixels in previous layer\n",
    "#        sh = stride, p = padding, k = no of pixels in kernel, h (subscript) = height\n",
    "\n",
    "      # size: np.floor( (28+2*1-5)/1 )+1 = 26/2 = 13 (/2 b/c maxpool)\n",
    "\n",
    "      self.conv2 = nn.Conv2d(10,20,kernel_size=5,stride=1,padding=1)\n",
    "      # size: np.floor( (13+2*1-5)/1 )+1 = 11/2 = 5 (/2 b/c maxpool)\n",
    "\n",
    "      # computing the number of units in FClayer (number of outputs of conv2)\n",
    "      expectSize = np.floor( (5+2*0-1)/1 ) + 1 # fc1 layer has no padding or kernel, so set to 0/1\n",
    "      expectSize = 20*int(expectSize**2)\n",
    "      \n",
    "      ### fully-connected layer\n",
    "      self.fc1 = nn.Linear(expectSize,50)\n",
    "\n",
    "      ### output layer\n",
    "      self.out = nn.Linear(50,10)\n",
    "\n",
    "      # toggle for printing out tensor sizes during forward prop\n",
    "      self.print = printtoggle\n",
    "\n",
    "    # forward pass\n",
    "    def forward(self,x):\n",
    "      \n",
    "      print(f'Input: {x.shape}') if self.print else None\n",
    "\n",
    "      # convolution -> maxpool -> relu\n",
    "      x = F.relu(F.max_pool2d(self.conv1(x),2))\n",
    "      print(f'Layer conv1/pool1: {x.shape}') if self.print else None\n",
    "\n",
    "      # convolution -> maxpool -> relu\n",
    "      x = F.relu(F.max_pool2d(self.conv2(x),2))\n",
    "      print(f'Layer conv2/pool2: {x.shape}') if self.print else None\n",
    "\n",
    "      # reshape for linear layer\n",
    "      nUnits = x.shape.numel()/x.shape[0]\n",
    "      x = x.view(-1,int(nUnits))\n",
    "      if self.print: print(f'Vectorize: {x.shape}')\n",
    "      \n",
    "      # linear layers\n",
    "      x = F.relu(self.fc1(x))\n",
    "      if self.print: print(f'Layer fc1: {x.shape}')\n",
    "      x = self.out(x)\n",
    "      if self.print: print(f'Layer out: {x.shape}')\n",
    "\n",
    "      return x\n",
    "  \n",
    "  # creating the model instance\n",
    "  net = mnistNet(printtoggle)\n",
    "  \n",
    "  # loss function\n",
    "  lossfun = nn.CrossEntropyLoss()\n",
    "\n",
    "  # optimizer\n",
    "  optimizer = torch.optim.Adam(net.parameters(),lr=.001)\n",
    "\n",
    "  return net,lossfun,optimizer"
   ]
  },
  {
   "cell_type": "code",
   "execution_count": 8,
   "metadata": {
    "id": "y6icEJcXp0el"
   },
   "outputs": [
    {
     "name": "stdout",
     "output_type": "stream",
     "text": [
      "Input: torch.Size([32, 1, 28, 28])\n",
      "Layer conv1/pool1: torch.Size([32, 10, 13, 13])\n",
      "Layer conv2/pool2: torch.Size([32, 20, 5, 5])\n",
      "Vectorize: torch.Size([32, 500])\n",
      "Layer fc1: torch.Size([32, 50])\n",
      "Layer out: torch.Size([32, 10])\n",
      " \n",
      "torch.Size([32, 10])\n",
      "torch.Size([32])\n",
      " \n",
      "Loss:\n",
      "tensor(15.2364, grad_fn=<NllLossBackward0>)\n"
     ]
    }
   ],
   "source": [
    "# testing the model with one batch\n",
    "net,lossfun,optimizer = createTheMNISTNet(True)\n",
    "\n",
    "X,y = next(iter(train_loader))\n",
    "yHat = net(X)\n",
    "\n",
    "\n",
    "# checking sizes of model outputs and target variable\n",
    "print(' ')\n",
    "print(yHat.shape)\n",
    "print(y.shape)\n",
    "\n",
    "# computing the loss\n",
    "loss = lossfun(yHat,y)\n",
    "print(' ')\n",
    "print('Loss:')\n",
    "print(loss)"
   ]
  },
  {
   "cell_type": "code",
   "execution_count": 9,
   "metadata": {
    "id": "vLP6nMVUEews"
   },
   "outputs": [
    {
     "name": "stdout",
     "output_type": "stream",
     "text": [
      "Input: torch.Size([1, 1, 28, 28])\n",
      "Layer conv1/pool1: torch.Size([1, 10, 13, 13])\n",
      "Layer conv2/pool2: torch.Size([1, 20, 5, 5])\n",
      "Vectorize: torch.Size([1, 500])\n",
      "Layer fc1: torch.Size([1, 50])\n",
      "Layer out: torch.Size([1, 10])\n"
     ]
    },
    {
     "data": {
      "text/plain": [
       "==========================================================================================\n",
       "Layer (type:depth-idx)                   Output Shape              Param #\n",
       "==========================================================================================\n",
       "mnistNet                                 [1, 10]                   --\n",
       "├─Conv2d: 1-1                            [1, 10, 26, 26]           260\n",
       "├─Conv2d: 1-2                            [1, 20, 11, 11]           5,020\n",
       "├─Linear: 1-3                            [1, 50]                   25,050\n",
       "├─Linear: 1-4                            [1, 10]                   510\n",
       "==========================================================================================\n",
       "Total params: 30,840\n",
       "Trainable params: 30,840\n",
       "Non-trainable params: 0\n",
       "Total mult-adds (M): 0.81\n",
       "==========================================================================================\n",
       "Input size (MB): 0.00\n",
       "Forward/backward pass size (MB): 0.07\n",
       "Params size (MB): 0.12\n",
       "Estimated Total Size (MB): 0.20\n",
       "=========================================================================================="
      ]
     },
     "execution_count": 9,
     "metadata": {},
     "output_type": "execute_result"
    }
   ],
   "source": [
    "# counting the total number of parameters in the model\n",
    "summary(net,(1, 1,28,28))"
   ]
  },
  {
   "cell_type": "markdown",
   "metadata": {
    "id": "dvfGQIRGp0ht"
   },
   "source": [
    "# Create a function that trains the model"
   ]
  },
  {
   "cell_type": "code",
   "execution_count": 10,
   "metadata": {
    "id": "IblJo1NCp0kl"
   },
   "outputs": [],
   "source": [
    "# a function that trains the model\n",
    "\n",
    "def function2trainTheModel():\n",
    "\n",
    "  # number of epochs\n",
    "  numepochs = 10\n",
    "  \n",
    "  # creating a new model\n",
    "  net,lossfun,optimizer = createTheMNISTNet()\n",
    "\n",
    "  # initializing losses\n",
    "  losses    = torch.zeros(numepochs)\n",
    "  trainAcc  = []\n",
    "  testAcc   = []\n",
    "\n",
    "\n",
    "  # looping over epochs\n",
    "  for epochi in range(numepochs):\n",
    "\n",
    "    # looping over training data batches\n",
    "    net.train()\n",
    "    batchAcc  = []\n",
    "    batchLoss = []\n",
    "    for X,y in train_loader:\n",
    "\n",
    "      # forward pass and loss\n",
    "      yHat = net(X)\n",
    "      loss = lossfun(yHat,y)\n",
    "\n",
    "      # backprop\n",
    "      optimizer.zero_grad()\n",
    "      loss.backward()\n",
    "      optimizer.step()\n",
    "\n",
    "      # loss from this batch\n",
    "      batchLoss.append(loss.item())\n",
    "\n",
    "      # computing accuracy\n",
    "      matches = torch.argmax(yHat,axis=1) == y     # booleans (false/true)\n",
    "      matchesNumeric = matches.float()             # convert to numbers (0/1)\n",
    "      accuracyPct = 100*torch.mean(matchesNumeric) # average and x100\n",
    "      batchAcc.append( accuracyPct )               # add to list of accuracies\n",
    "    # end of batch loop...\n",
    "\n",
    "    # after trained through the batches, get average training accuracy\n",
    "    trainAcc.append( np.mean(batchAcc) )\n",
    "\n",
    "    # get average losses across the batches\n",
    "    losses[epochi] = np.mean(batchLoss)\n",
    "\n",
    "    # test accuracy\n",
    "    net.eval()\n",
    "    X,y = next(iter(test_loader)) # extract X,y from test dataloader\n",
    "    with torch.no_grad(): # deactivates autograd\n",
    "      yHat = net(X)\n",
    "      \n",
    "    # comparing to the training accuracy lines\n",
    "    testAcc.append( 100*torch.mean((torch.argmax(yHat,axis=1)==y).float()) )\n",
    "\n",
    "  # end epochs\n",
    "\n",
    "  # function output\n",
    "  return trainAcc,testAcc,losses,net\n"
   ]
  },
  {
   "cell_type": "markdown",
   "metadata": {
    "id": "XpGm9xdQ27Ob"
   },
   "source": [
    "# Run the model and show the results"
   ]
  },
  {
   "cell_type": "code",
   "execution_count": 11,
   "metadata": {
    "id": "l9pCC1R2p0nu"
   },
   "outputs": [],
   "source": [
    "trainAcc,testAcc,losses,net = function2trainTheModel()"
   ]
  },
  {
   "cell_type": "code",
   "execution_count": null,
   "metadata": {
    "id": "gHzKOZjnp0qn"
   },
   "outputs": [],
   "source": [
    "fig,ax = plt.subplots(1,2,figsize=(16,5))\n",
    "\n",
    "ax[0].plot(losses,'s-')\n",
    "ax[0].set_xlabel('Epochs')\n",
    "ax[0].set_ylabel('Loss')\n",
    "ax[0].set_title('Model loss')\n",
    "\n",
    "ax[1].plot(trainAcc,'s-',label='Train')\n",
    "ax[1].plot(testAcc,'o-',label='Test')\n",
    "ax[1].set_xlabel('Epochs')\n",
    "ax[1].set_ylabel('Accuracy (%)')\n",
    "ax[1].set_title(f'Final model test accuracy: {testAcc[-1]:.2f}%')\n",
    "ax[1].legend()\n",
    "\n",
    "plt.show()"
   ]
  },
  {
   "cell_type": "code",
   "execution_count": null,
   "metadata": {},
   "outputs": [],
   "source": []
  }
 ],
 "metadata": {
  "colab": {
   "authorship_tag": "ABX9TyOhHTyS9aL4mpUjhM447Ae0",
   "collapsed_sections": [],
   "name": "DUDL_CNN_CNN4MNIST.ipynb",
   "provenance": [
    {
     "file_id": "1FcEBC0NAESIlHQkv6_85R-XDUKGE8XbM",
     "timestamp": 1619549043909
    },
    {
     "file_id": "1qKgZ8kVcqNgwtBzHbWq5yJH_HqI6DxWW",
     "timestamp": 1617803880910
    },
    {
     "file_id": "15cpyHkJ435B4MqbyGjAH1poN4nCy_DE4",
     "timestamp": 1617737766196
    },
    {
     "file_id": "1OLuWuaFu0hcFgkQ2hh5BqbRuqUZD7XcQ",
     "timestamp": 1617734878578
    },
    {
     "file_id": "1XvzVGJPTJifVh8OpZVB7ykLxyUqYwQ1j",
     "timestamp": 1617196833019
    },
    {
     "file_id": "1bv1_y32e3KEExFKKlPfC3rpw1JxmBr8H",
     "timestamp": 1617124341706
    },
    {
     "file_id": "1GMq8u7KyHB2AE7Teyls9gK1T01OduQSn",
     "timestamp": 1616697516760
    },
    {
     "file_id": "1Ui3kyHim-e0XLgDs2mkBxVlYg7TKYtcg",
     "timestamp": 1616615469755
    },
    {
     "file_id": "1YpHocGI4rApOxIBb1ZghCU5L-hFnv4CK",
     "timestamp": 1616608248670
    }
   ]
  },
  "kernelspec": {
   "display_name": "Python 3 (ipykernel)",
   "language": "python",
   "name": "python3"
  },
  "language_info": {
   "codemirror_mode": {
    "name": "ipython",
    "version": 3
   },
   "file_extension": ".py",
   "mimetype": "text/x-python",
   "name": "python",
   "nbconvert_exporter": "python",
   "pygments_lexer": "ipython3",
   "version": "3.9.7"
  }
 },
 "nbformat": 4,
 "nbformat_minor": 1
}
